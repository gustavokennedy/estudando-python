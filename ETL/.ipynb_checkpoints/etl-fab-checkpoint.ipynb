{
 "cells": [
  {
   "cell_type": "code",
   "execution_count": null,
   "id": "1205f645",
   "metadata": {},
   "outputs": [],
   "source": [
    "import pandas as pd\n",
    "import pandera as pa"
   ]
  },
  {
   "cell_type": "code",
   "execution_count": null,
   "id": "82ce70d7",
   "metadata": {},
   "outputs": [],
   "source": [
    "df = pd.read_csv(\"ocorrencia.csv\", sep=\";\", parse_dates=['ocorrencia_dia'], dayfirst=True)\n",
    "df.head(10)"
   ]
  },
  {
   "cell_type": "code",
   "execution_count": null,
   "id": "71a464d3",
   "metadata": {},
   "outputs": [],
   "source": [
    "schema - pa.DataFrameSchema(\n",
    "    columns = {\n",
    "        \"codigo_ocorrencia\":pa.Column(pa.Int)\n",
    "    }\n",
    ")"
   ]
  },
  {
   "cell_type": "code",
   "execution_count": null,
   "id": "024ec1db",
   "metadata": {},
   "outputs": [],
   "source": [
    "schema.validate(df)"
   ]
  },
  {
   "cell_type": "raw",
   "id": "0f3f60a1",
   "metadata": {},
   "source": [
    "df.dtypes\n",
    "df.ocorrencia_dia.dt.month"
   ]
  },
  {
   "cell_type": "code",
   "execution_count": null,
   "id": "13b2f98f",
   "metadata": {},
   "outputs": [],
   "source": [
    "df.dtypes"
   ]
  },
  {
   "cell_type": "raw",
   "id": "4fa54b53",
   "metadata": {},
   "source": [
    "pip install pandera"
   ]
  },
  {
   "cell_type": "code",
   "execution_count": null,
   "id": "5059cb9a",
   "metadata": {},
   "outputs": [],
   "source": []
  }
 ],
 "metadata": {
  "kernelspec": {
   "display_name": "Python 3 (ipykernel)",
   "language": "python",
   "name": "python3"
  },
  "language_info": {
   "codemirror_mode": {
    "name": "ipython",
    "version": 3
   },
   "file_extension": ".py",
   "mimetype": "text/x-python",
   "name": "python",
   "nbconvert_exporter": "python",
   "pygments_lexer": "ipython3",
   "version": "3.9.7"
  }
 },
 "nbformat": 4,
 "nbformat_minor": 5
}
